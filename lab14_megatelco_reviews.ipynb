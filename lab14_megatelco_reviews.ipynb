{
  "cells": [
    {
      "cell_type": "markdown",
      "metadata": {
        "id": "view-in-github",
        "colab_type": "text"
      },
      "source": [
        "<a href=\"https://colab.research.google.com/github/athai16/codepath-prework/blob/main/lab14_megatelco_reviews.ipynb\" target=\"_parent\"><img src=\"https://colab.research.google.com/assets/colab-badge.svg\" alt=\"Open In Colab\"/></a>"
      ]
    },
    {
      "cell_type": "markdown",
      "metadata": {
        "id": "gsE58ctCNFm_"
      },
      "source": [
        "# IS 4487 Lab 14\n",
        "\n",
        "## Outline\n",
        "\n",
        "1. Import customer reviews\n",
        "2. Create prompts for LLM (ChatGPT)\n",
        "3. Summarize Customer Reviews\n",
        "\n",
        "*Important note:*\n",
        "You will use the API key from the Canvas assignment for your work, but you must NOT save it in your public GitHub repository.  It will quickly be found and used, draining my budget!\n",
        "\n",
        "<a href=\"https://colab.research.google.com/github/Stan-Pugsley/is_4487_base/blob/main/Labs/Scripts/lab14_megatelco_reviews.ipynb\" target=\"_parent\"><img src=\"https://colab.research.google.com/assets/colab-badge.svg\" alt=\"Open In Colab\"/></a>\n"
      ]
    },
    {
      "cell_type": "markdown",
      "metadata": {
        "id": "NylSD49srl5m"
      },
      "source": [
        "## Install and Load Libraries"
      ]
    },
    {
      "cell_type": "code",
      "execution_count": 1,
      "metadata": {
        "id": "mUapi621OqPA",
        "colab": {
          "base_uri": "https://localhost:8080/"
        },
        "outputId": "af778603-cf82-4221-b531-36298491afe8"
      },
      "outputs": [
        {
          "output_type": "stream",
          "name": "stdout",
          "text": [
            "Collecting openai\n",
            "  Downloading openai-1.23.2-py3-none-any.whl (311 kB)\n",
            "\u001b[2K     \u001b[90m━━━━━━━━━━━━━━━━━━━━━━━━━━━━━━━━━━━━━━━━\u001b[0m \u001b[32m311.2/311.2 kB\u001b[0m \u001b[31m5.1 MB/s\u001b[0m eta \u001b[36m0:00:00\u001b[0m\n",
            "\u001b[?25hRequirement already satisfied: anyio<5,>=3.5.0 in /usr/local/lib/python3.10/dist-packages (from openai) (3.7.1)\n",
            "Requirement already satisfied: distro<2,>=1.7.0 in /usr/lib/python3/dist-packages (from openai) (1.7.0)\n",
            "Collecting httpx<1,>=0.23.0 (from openai)\n",
            "  Downloading httpx-0.27.0-py3-none-any.whl (75 kB)\n",
            "\u001b[2K     \u001b[90m━━━━━━━━━━━━━━━━━━━━━━━━━━━━━━━━━━━━━━━━\u001b[0m \u001b[32m75.6/75.6 kB\u001b[0m \u001b[31m9.5 MB/s\u001b[0m eta \u001b[36m0:00:00\u001b[0m\n",
            "\u001b[?25hRequirement already satisfied: pydantic<3,>=1.9.0 in /usr/local/lib/python3.10/dist-packages (from openai) (2.7.0)\n",
            "Requirement already satisfied: sniffio in /usr/local/lib/python3.10/dist-packages (from openai) (1.3.1)\n",
            "Requirement already satisfied: tqdm>4 in /usr/local/lib/python3.10/dist-packages (from openai) (4.66.2)\n",
            "Requirement already satisfied: typing-extensions<5,>=4.7 in /usr/local/lib/python3.10/dist-packages (from openai) (4.11.0)\n",
            "Requirement already satisfied: idna>=2.8 in /usr/local/lib/python3.10/dist-packages (from anyio<5,>=3.5.0->openai) (3.7)\n",
            "Requirement already satisfied: exceptiongroup in /usr/local/lib/python3.10/dist-packages (from anyio<5,>=3.5.0->openai) (1.2.0)\n",
            "Requirement already satisfied: certifi in /usr/local/lib/python3.10/dist-packages (from httpx<1,>=0.23.0->openai) (2024.2.2)\n",
            "Collecting httpcore==1.* (from httpx<1,>=0.23.0->openai)\n",
            "  Downloading httpcore-1.0.5-py3-none-any.whl (77 kB)\n",
            "\u001b[2K     \u001b[90m━━━━━━━━━━━━━━━━━━━━━━━━━━━━━━━━━━━━━━━━\u001b[0m \u001b[32m77.9/77.9 kB\u001b[0m \u001b[31m7.7 MB/s\u001b[0m eta \u001b[36m0:00:00\u001b[0m\n",
            "\u001b[?25hCollecting h11<0.15,>=0.13 (from httpcore==1.*->httpx<1,>=0.23.0->openai)\n",
            "  Downloading h11-0.14.0-py3-none-any.whl (58 kB)\n",
            "\u001b[2K     \u001b[90m━━━━━━━━━━━━━━━━━━━━━━━━━━━━━━━━━━━━━━━━\u001b[0m \u001b[32m58.3/58.3 kB\u001b[0m \u001b[31m6.2 MB/s\u001b[0m eta \u001b[36m0:00:00\u001b[0m\n",
            "\u001b[?25hRequirement already satisfied: annotated-types>=0.4.0 in /usr/local/lib/python3.10/dist-packages (from pydantic<3,>=1.9.0->openai) (0.6.0)\n",
            "Requirement already satisfied: pydantic-core==2.18.1 in /usr/local/lib/python3.10/dist-packages (from pydantic<3,>=1.9.0->openai) (2.18.1)\n",
            "Installing collected packages: h11, httpcore, httpx, openai\n",
            "Successfully installed h11-0.14.0 httpcore-1.0.5 httpx-0.27.0 openai-1.23.2\n"
          ]
        }
      ],
      "source": [
        "pip install openai"
      ]
    },
    {
      "cell_type": "code",
      "execution_count": 2,
      "metadata": {
        "id": "QfiSLm4kMTmm",
        "colab": {
          "base_uri": "https://localhost:8080/"
        },
        "outputId": "406f968a-c069-4eba-a531-621c67a80b4d"
      },
      "outputs": [
        {
          "output_type": "stream",
          "name": "stdout",
          "text": [
            "Collecting itables\n",
            "  Downloading itables-2.0.0-py3-none-any.whl (215 kB)\n",
            "\u001b[?25l     \u001b[90m━━━━━━━━━━━━━━━━━━━━━━━━━━━━━━━━━━━━━━━━\u001b[0m \u001b[32m0.0/215.6 kB\u001b[0m \u001b[31m?\u001b[0m eta \u001b[36m-:--:--\u001b[0m\r\u001b[2K     \u001b[91m━━━━━━━━━━━━━━━━━━━━━━\u001b[0m\u001b[91m╸\u001b[0m\u001b[90m━━━━━━━━━━━━━━━━━\u001b[0m \u001b[32m122.9/215.6 kB\u001b[0m \u001b[31m3.8 MB/s\u001b[0m eta \u001b[36m0:00:01\u001b[0m\r\u001b[2K     \u001b[90m━━━━━━━━━━━━━━━━━━━━━━━━━━━━━━━━━━━━━━━━\u001b[0m \u001b[32m215.6/215.6 kB\u001b[0m \u001b[31m4.3 MB/s\u001b[0m eta \u001b[36m0:00:00\u001b[0m\n",
            "\u001b[?25hRequirement already satisfied: ipython in /usr/local/lib/python3.10/dist-packages (from itables) (7.34.0)\n",
            "Requirement already satisfied: numpy in /usr/local/lib/python3.10/dist-packages (from itables) (1.25.2)\n",
            "Requirement already satisfied: pandas in /usr/local/lib/python3.10/dist-packages (from itables) (2.0.3)\n",
            "Requirement already satisfied: setuptools>=18.5 in /usr/local/lib/python3.10/dist-packages (from ipython->itables) (67.7.2)\n",
            "Collecting jedi>=0.16 (from ipython->itables)\n",
            "  Downloading jedi-0.19.1-py2.py3-none-any.whl (1.6 MB)\n",
            "\u001b[2K     \u001b[90m━━━━━━━━━━━━━━━━━━━━━━━━━━━━━━━━━━━━━━━━\u001b[0m \u001b[32m1.6/1.6 MB\u001b[0m \u001b[31m10.3 MB/s\u001b[0m eta \u001b[36m0:00:00\u001b[0m\n",
            "\u001b[?25hRequirement already satisfied: decorator in /usr/local/lib/python3.10/dist-packages (from ipython->itables) (4.4.2)\n",
            "Requirement already satisfied: pickleshare in /usr/local/lib/python3.10/dist-packages (from ipython->itables) (0.7.5)\n",
            "Requirement already satisfied: traitlets>=4.2 in /usr/local/lib/python3.10/dist-packages (from ipython->itables) (5.7.1)\n",
            "Requirement already satisfied: prompt-toolkit!=3.0.0,!=3.0.1,<3.1.0,>=2.0.0 in /usr/local/lib/python3.10/dist-packages (from ipython->itables) (3.0.43)\n",
            "Requirement already satisfied: pygments in /usr/local/lib/python3.10/dist-packages (from ipython->itables) (2.16.1)\n",
            "Requirement already satisfied: backcall in /usr/local/lib/python3.10/dist-packages (from ipython->itables) (0.2.0)\n",
            "Requirement already satisfied: matplotlib-inline in /usr/local/lib/python3.10/dist-packages (from ipython->itables) (0.1.7)\n",
            "Requirement already satisfied: pexpect>4.3 in /usr/local/lib/python3.10/dist-packages (from ipython->itables) (4.9.0)\n",
            "Requirement already satisfied: python-dateutil>=2.8.2 in /usr/local/lib/python3.10/dist-packages (from pandas->itables) (2.8.2)\n",
            "Requirement already satisfied: pytz>=2020.1 in /usr/local/lib/python3.10/dist-packages (from pandas->itables) (2023.4)\n",
            "Requirement already satisfied: tzdata>=2022.1 in /usr/local/lib/python3.10/dist-packages (from pandas->itables) (2024.1)\n",
            "Requirement already satisfied: parso<0.9.0,>=0.8.3 in /usr/local/lib/python3.10/dist-packages (from jedi>=0.16->ipython->itables) (0.8.4)\n",
            "Requirement already satisfied: ptyprocess>=0.5 in /usr/local/lib/python3.10/dist-packages (from pexpect>4.3->ipython->itables) (0.7.0)\n",
            "Requirement already satisfied: wcwidth in /usr/local/lib/python3.10/dist-packages (from prompt-toolkit!=3.0.0,!=3.0.1,<3.1.0,>=2.0.0->ipython->itables) (0.2.13)\n",
            "Requirement already satisfied: six>=1.5 in /usr/local/lib/python3.10/dist-packages (from python-dateutil>=2.8.2->pandas->itables) (1.16.0)\n",
            "Installing collected packages: jedi, itables\n",
            "Successfully installed itables-2.0.0 jedi-0.19.1\n"
          ]
        }
      ],
      "source": [
        "pip install itables"
      ]
    },
    {
      "cell_type": "code",
      "execution_count": 3,
      "metadata": {
        "id": "-BiHHJXsG1jC"
      },
      "outputs": [],
      "source": [
        "import os\n",
        "from openai import OpenAI\n",
        "import pandas as pd\n",
        "from itables import show"
      ]
    },
    {
      "cell_type": "markdown",
      "metadata": {
        "id": "z7fd6QOHrl5n"
      },
      "source": [
        "##Set the API Key Temporarily\n",
        "Remember to remove it before saving to GitHub"
      ]
    },
    {
      "cell_type": "code",
      "execution_count": 4,
      "metadata": {
        "id": "FQIQEoMLN1Bs"
      },
      "outputs": [],
      "source": [
        "\n",
        "client=OpenAI(\n",
        "    api_key = \"<- Get this on Canvas ->\"\n",
        ")"
      ]
    },
    {
      "cell_type": "markdown",
      "metadata": {
        "id": "OPuhk7Z3rl5o"
      },
      "source": [
        "##Get Reviews"
      ]
    },
    {
      "cell_type": "code",
      "execution_count": 5,
      "metadata": {
        "id": "YVhlOg01LWq_",
        "colab": {
          "base_uri": "https://localhost:8080/",
          "height": 465
        },
        "outputId": "99e45637-2069-47fd-a114-04fa29c9bdba"
      },
      "outputs": [
        {
          "output_type": "display_data",
          "data": {
            "text/plain": [
              "<IPython.core.display.HTML object>"
            ],
            "text/html": [
              "<table id=\"itables_e13c18a8_ed8c_49a8_a89f_10f01d72b952\" class=\"display nowrap\" data-quarto-disable-processing=\"true\" style=\"table-layout:auto;width:auto;margin:auto;caption-side:bottom\">\n",
              "<thead>\n",
              "    <tr style=\"text-align: right;\">\n",
              "      \n",
              "      <th>Date</th>\n",
              "      <th>Stars</th>\n",
              "      <th>Review</th>\n",
              "    </tr>\n",
              "  </thead><tbody><tr><td>Loading... (need <a href=https://mwouts.github.io/itables/troubleshooting.html>help</a>?)</td></tr></tbody>\n",
              "\n",
              "</table>\n",
              "<link href=\"https://www.unpkg.com/dt_for_itables@2.0.1/dt_bundle.css\" rel=\"stylesheet\">\n",
              "<script type=\"module\">\n",
              "    import {DataTable, jQuery as $} from 'https://www.unpkg.com/dt_for_itables@2.0.1/dt_bundle.js';\n",
              "\n",
              "    document.querySelectorAll(\"#itables_e13c18a8_ed8c_49a8_a89f_10f01d72b952:not(.dataTable)\").forEach(table => {\n",
              "        // Define the table data\n",
              "        const data = [[\"2023-12-01\", 4, \"I purchased a Megatelco phone last week, and I'm impressed with its sleek design and powerful performance. The camera quality is exceptional, and the battery life is commendable. Overall, a solid 4-star experience.\"], [\"2023-12-03\", 3, \"My Megatelco phone arrived promptly, but I've noticed some issues with the software. It tends to lag at times, affecting the user experience. Customer support was helpful, but I expected better performance. 3 stars.\"], [\"2023-12-05\", 5, \"Megatelco offers top-notch phones! I'm thrilled with the features and the smooth interface. The camera takes stunning photos, and the battery lasts all day. 5 stars without a doubt!\"], [\"2023-12-08\", 4, \"I've been using Megatelco phones for a while now, and they never disappoint. The latest model I purchased is no exception. Great performance, stylish design, and excellent customer service. 4 stars from a satisfied customer.\"], [\"2023-12-10\", 2, \"Regrettably, my experience with Megatelco was not as expected. The phone had constant connectivity issues, and the support team couldn't provide a solution. Disappointed and only giving it 2 stars.\"], [\"2023-12-12\", 5, \"Megatelco's latest phone exceeded my expectations! It's packed with innovative features, and the customer service team was quick to address a minor concern I had. Solid 5-star rating!\"], [\"2023-12-15\", 3, \"I had a mixed experience with Megatelco. The phone's performance is decent, but I encountered some software glitches. Customer support was responsive but couldn't entirely resolve the issue. 3 stars.\"], [\"2023-12-18\", 4, \"Megatelco phones are reliable and offer great value. The user-friendly interface, coupled with impressive features, makes them a top choice. I'm giving it 4 stars for its overall quality.\"], [\"2023-12-20\", 1, \"My Megatelco phone started malfunctioning within a week of purchase. The touch screen became unresponsive, and customer support was unable to provide a quick solution. Unfortunately, a 1-star rating.\"], [\"2023-12-22\", 5, \"I recently upgraded to the latest Megatelco phone, and it's fantastic! The speed, camera quality, and battery life are exceptional. The sleek design is a bonus. Easy 5 stars!\"]];\n",
              "\n",
              "        // Define the dt_args\n",
              "        let dt_args = {\"layout\": {\"topStart\": null, \"topEnd\": null, \"bottomStart\": null, \"bottomEnd\": null}, \"order\": [], \"warn_on_dom\": true};\n",
              "        dt_args[\"data\"] = data;\n",
              "\n",
              "        \n",
              "        new DataTable(table, dt_args);\n",
              "    });\n",
              "</script>\n"
            ]
          },
          "metadata": {}
        },
        {
          "output_type": "stream",
          "name": "stdout",
          "text": [
            "0    I purchased a Megatelco phone last week, and I...\n",
            "Name: Review, dtype: object\n"
          ]
        }
      ],
      "source": [
        "reviews_data = {\n",
        "    'Date': ['2023-12-01', '2023-12-03', '2023-12-05', '2023-12-08', '2023-12-10', '2023-12-12', '2023-12-15', '2023-12-18', '2023-12-20', '2023-12-22'],\n",
        "    'Stars': [4, 3, 5, 4, 2, 5, 3, 4, 1, 5],\n",
        "    'Review': [\n",
        "        \"I purchased a Megatelco phone last week, and I'm impressed with its sleek design and powerful performance. The camera quality is exceptional, and the battery life is commendable. Overall, a solid 4-star experience.\",\n",
        "        \"My Megatelco phone arrived promptly, but I've noticed some issues with the software. It tends to lag at times, affecting the user experience. Customer support was helpful, but I expected better performance. 3 stars.\",\n",
        "        \"Megatelco offers top-notch phones! I'm thrilled with the features and the smooth interface. The camera takes stunning photos, and the battery lasts all day. 5 stars without a doubt!\",\n",
        "        \"I've been using Megatelco phones for a while now, and they never disappoint. The latest model I purchased is no exception. Great performance, stylish design, and excellent customer service. 4 stars from a satisfied customer.\",\n",
        "        \"Regrettably, my experience with Megatelco was not as expected. The phone had constant connectivity issues, and the support team couldn't provide a solution. Disappointed and only giving it 2 stars.\",\n",
        "        \"Megatelco's latest phone exceeded my expectations! It's packed with innovative features, and the customer service team was quick to address a minor concern I had. Solid 5-star rating!\",\n",
        "        \"I had a mixed experience with Megatelco. The phone's performance is decent, but I encountered some software glitches. Customer support was responsive but couldn't entirely resolve the issue. 3 stars.\",\n",
        "        \"Megatelco phones are reliable and offer great value. The user-friendly interface, coupled with impressive features, makes them a top choice. I'm giving it 4 stars for its overall quality.\",\n",
        "        \"My Megatelco phone started malfunctioning within a week of purchase. The touch screen became unresponsive, and customer support was unable to provide a quick solution. Unfortunately, a 1-star rating.\",\n",
        "        \"I recently upgraded to the latest Megatelco phone, and it's fantastic! The speed, camera quality, and battery life are exceptional. The sleek design is a bonus. Easy 5 stars!\"\n",
        "    ]\n",
        "}\n",
        "\n",
        "# Creating the DataFrame\n",
        "df = pd.DataFrame(reviews_data)\n",
        "show(df)\n",
        "print(df['Review'].iloc[:1])"
      ]
    },
    {
      "cell_type": "code",
      "source": [
        "from google.colab import drive\n",
        "drive.mount('/content/drive')"
      ],
      "metadata": {
        "colab": {
          "base_uri": "https://localhost:8080/"
        },
        "id": "Za9phsPp2q7g",
        "outputId": "d5cbebbf-b69e-4ca9-ed81-365f8ef75271"
      },
      "execution_count": 15,
      "outputs": [
        {
          "output_type": "stream",
          "name": "stdout",
          "text": [
            "Drive already mounted at /content/drive; to attempt to forcibly remount, call drive.mount(\"/content/drive\", force_remount=True).\n"
          ]
        }
      ]
    },
    {
      "cell_type": "markdown",
      "metadata": {
        "id": "L3QK9aZ_rl5o"
      },
      "source": [
        "##Create Prompts and Send to Model"
      ]
    },
    {
      "cell_type": "code",
      "execution_count": 6,
      "metadata": {
        "id": "pSoFFl_FN4F6",
        "colab": {
          "base_uri": "https://localhost:8080/"
        },
        "outputId": "e6a49566-0bb4-4b3b-b435-5e9ca42d6093"
      },
      "outputs": [
        {
          "output_type": "stream",
          "name": "stdout",
          "text": [
            "I purchased a Megatelco phone last week, and I'm impressed with its sleek design and powerful performance. The camera quality is exceptional, and the battery life is commendable. Overall, a solid 4-star experience.\n",
            "[{'role': 'system', 'content': 'Summarize the sentiment and most important points in the following user review for a phone company named Megatelco.  Format the output in a table.'}, {'role': 'user', 'content': \"I purchased a Megatelco phone last week, and I'm impressed with its sleek design and powerful performance. The camera quality is exceptional, and the battery life is commendable. Overall, a solid 4-star experience.\"}]\n"
          ]
        }
      ],
      "source": [
        "review = df['Review'].values[0]\n",
        "print(review)\n",
        "messages = [{\"role\":\"system\",\"content\":\"Summarize the sentiment and most important points in the following user review for a phone company named Megatelco.  Format the output in a table.\"}]\n",
        "messages.append({\"role\":\"user\", \"content\":review})\n",
        "print(messages)"
      ]
    },
    {
      "cell_type": "code",
      "execution_count": 7,
      "metadata": {
        "id": "BE2F-S7TO9Cz"
      },
      "outputs": [],
      "source": [
        "response = client.chat.completions.create(\n",
        "    model=\"gpt-3.5-turbo\",\n",
        "    messages = messages,\n",
        "    max_tokens = 250\n",
        ")"
      ]
    },
    {
      "cell_type": "markdown",
      "metadata": {
        "id": "vnW7jvUCrl5p"
      },
      "source": [
        "## Display Response"
      ]
    },
    {
      "cell_type": "code",
      "execution_count": 8,
      "metadata": {
        "id": "hwIQ9nHwPXwZ",
        "colab": {
          "base_uri": "https://localhost:8080/"
        },
        "outputId": "192645f3-b710-4f0f-b2d6-ee3cb37feaed"
      },
      "outputs": [
        {
          "output_type": "stream",
          "name": "stdout",
          "text": [
            "| Sentiment    | Positive    |\n",
            "|--------------|-------------|\n",
            "| Points       | - Sleek design     |\n",
            "|              | - Powerful performance     |\n",
            "|              | - Exceptional camera quality     |\n",
            "|              | - Commendable battery life     |\n",
            "|              | - Overall solid 4-star experience     |\n"
          ]
        }
      ],
      "source": [
        "print(response.choices[0].message.content)"
      ]
    },
    {
      "cell_type": "markdown",
      "metadata": {
        "id": "Kw3wznOzrl5p"
      },
      "source": [
        "## Create a Loop to Submit Reviews\n",
        "\n",
        "➡️ Assignment Tasks\n",
        "- Create a FOR loop to iterate through reviews\n",
        "- Collect the responses in a single datafram"
      ]
    },
    {
      "cell_type": "code",
      "execution_count": 10,
      "metadata": {
        "id": "Tb_dfHG6rl5p",
        "colab": {
          "base_uri": "https://localhost:8080/"
        },
        "outputId": "fe165274-127a-45de-98a3-821719828096"
      },
      "outputs": [
        {
          "output_type": "stream",
          "name": "stdout",
          "text": [
            "                                            Response\n",
            "0  | Sentiment   | Points                        ...\n",
            "1  | Sentiment   | The user has a mixed sentiment...\n",
            "2  | Sentiment   | Positive  |\\n|-------------|--...\n",
            "3  | Sentiment  | Points                         ...\n",
            "4  | Sentiment   | Points                        ...\n",
            "5  | Sentiment   | Points                        ...\n",
            "6  | Sentiment  | Points                         ...\n",
            "7  | Sentiment   | Positive  |\\n|-------------|--...\n",
            "8  | Sentiment   | Points                        ...\n",
            "9  | Sentiment  | Points                         ...\n"
          ]
        }
      ],
      "source": [
        "#loop and collect responses\n",
        "\n",
        "all_responses=[]\n",
        "\n",
        "#Iterate through the reviews\n",
        "for review in reviews_data['Review']:\n",
        "  # Initialize messages for each review\n",
        "  messages = [{\"role\": \"system\",\"content\": \"Summarize the sentiment and most important points in the following user review for a phone company-named-Megatelco.-Format-the-output-in-a-table.\"}]\n",
        "  messages.append({\"role\": \"user\",\"content\": review})\n",
        "\n",
        "# Call the create_completion method\n",
        "  response = client.chat.completions.create(\n",
        "    model=\"gpt-3.5-turbo\",\n",
        "    messages=messages,\n",
        "    max_tokens=250)\n",
        "\n",
        "  # Append the response to the list of all responses\n",
        "  all_responses.append(response.choices[0].message.content)\n",
        "\n",
        "# Create a Dataframe from the responses\n",
        "df_responses = pd.DataFrame({'Response': all_responses})\n",
        "\n",
        "# Display the DataFrame\n",
        "print (df_responses)"
      ]
    },
    {
      "cell_type": "markdown",
      "metadata": {
        "id": "9IOIKyeBrl5p"
      },
      "source": [
        "## Summarize the Responses\n",
        "\n",
        "➡️ Assignment Tasks\n",
        "- Create at least two visualizations to show the most important themes and sentinment of the reviews"
      ]
    },
    {
      "cell_type": "code",
      "source": [
        "import matplotlib.pyplot as plt\n",
        "from textblob import TextBlob\n",
        "\n",
        "# Sentiment Analysis\n",
        "sentiment_scores = []\n",
        "\n",
        "for review in reviews_data['Review']:\n",
        "    blob = TextBlob(review)\n",
        "    sentiment_scores.append(blob.sentiment.polarity)"
      ],
      "metadata": {
        "id": "8lEdwqLp1-BY"
      },
      "execution_count": 11,
      "outputs": []
    },
    {
      "cell_type": "code",
      "execution_count": 12,
      "metadata": {
        "id": "iA0bBnw7rl5p",
        "colab": {
          "base_uri": "https://localhost:8080/",
          "height": 650
        },
        "outputId": "9bd29d6c-1201-4dfe-aece-9aacde50e8d6"
      },
      "outputs": [
        {
          "output_type": "display_data",
          "data": {
            "text/plain": [
              "<Figure size 1000x600 with 1 Axes>"
            ],
            "image/png": "[encoded data removed]"
          },
          "metadata": {}
        }
      ],
      "source": [
        "#themes\n",
        "\n",
        "themes = ['Design', 'Performance', 'Customer Support', 'Software', 'Battery Life', 'Value', 'Reliability']\n",
        "theme_counts = {theme: 0 for theme in themes}\n",
        "\n",
        "for review in reviews_data['Review']:\n",
        "    for theme in themes:\n",
        "        if theme.lower() in review.lower():\n",
        "            theme_counts[theme] += 1\n",
        "\n",
        "plt.figure(figsize=(10, 6))\n",
        "plt.bar(theme_counts.keys(), theme_counts.values(), color='skyblue')\n",
        "plt.title('Theme Frequency in Reviews')\n",
        "plt.xlabel('Themes')\n",
        "plt.ylabel('Frequency')\n",
        "plt.xticks(rotation=45)\n",
        "plt.show()"
      ]
    },
    {
      "cell_type": "code",
      "execution_count": 13,
      "metadata": {
        "id": "AwvIV0zKrl5p",
        "colab": {
          "base_uri": "https://localhost:8080/",
          "height": 521
        },
        "outputId": "2d486eff-83ed-4c56-a848-f83bc47cac93"
      },
      "outputs": [
        {
          "output_type": "display_data",
          "data": {
            "text/plain": [
              "<Figure size 600x600 with 1 Axes>"
            ],
            "image/png": "[encoded data removed]"
          },
          "metadata": {}
        }
      ],
      "source": [
        "#sentiment frequency\n",
        "\n",
        "sentiment_labels = ['Negative', 'Neutral', 'Positive']\n",
        "sentiment_freq = [len([score for score in sentiment_scores if score < -0.1]),\n",
        "                  len([score for score in sentiment_scores if -0.1 <= score <= 0.1]),\n",
        "                  len([score for score in sentiment_scores if score > 0.1])]\n",
        "\n",
        "plt.figure(figsize=(6, 6))\n",
        "plt.pie(sentiment_freq, labels=sentiment_labels, autopct='%1.1f%%', colors=['tomato', 'lightgrey', 'limegreen'])\n",
        "plt.title('Sentiment Distribution in Reviews')\n",
        "plt.show()\n"
      ]
    },
    {
      "cell_type": "code",
      "source": [
        "!cp \"/content/drive/MyDrive/Colab Notebooks/lab14_megatelco_reviews.ipynb\" ./\n",
        "!jupyter nbconvert --to html \"lab14_megatelco_reviews.ipynb\""
      ],
      "metadata": {
        "colab": {
          "base_uri": "https://localhost:8080/"
        },
        "id": "eR9sn1MR22Ii",
        "outputId": "a1c00766-3a9a-4a3a-9a5f-7b798fcf67ad"
      },
      "execution_count": 16,
      "outputs": [
        {
          "output_type": "stream",
          "name": "stdout",
          "text": [
            "[NbConvertApp] Converting notebook lab14_megatelco_reviews.ipynb to html\n",
            "[NbConvertApp] Writing 694532 bytes to lab14_megatelco_reviews.html\n"
          ]
        }
      ]
    }
  ],
  "metadata": {
    "colab": {
      "provenance": [],
      "include_colab_link": true
    },
    "kernelspec": {
      "display_name": "Python 3",
      "name": "python3"
    },
    "language_info": {
      "name": "python"
    }
  },
  "nbformat": 4,
  "nbformat_minor": 0
}