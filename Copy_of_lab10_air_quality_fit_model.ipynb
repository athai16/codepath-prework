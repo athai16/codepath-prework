{
  "cells": [
    {
      "cell_type": "markdown",
      "metadata": {
        "id": "view-in-github",
        "colab_type": "text"
      },
      "source": [
        "<a href=\"https://colab.research.google.com/github/athai16/codepath-prework/blob/main/Copy_of_lab10_air_quality_fit_model.ipynb\" target=\"_parent\"><img src=\"https://colab.research.google.com/assets/colab-badge.svg\" alt=\"Open In Colab\"/></a>"
      ]
    },
    {
      "cell_type": "markdown",
      "metadata": {
        "id": "hD7yOlN4wPca"
      },
      "source": [
        "# IS 4487 Lab 10\n",
        "\n",
        "## Outline\n",
        "\n",
        "Repeat exercises from Lab 9, but with the *Air Quality Daily AQI* dataset.\n",
        "\n",
        "Pull the latest \"Daily AQI by County\" file from this link: https://aqs.epa.gov/aqsweb/airdata/download_files.html#AQI\n",
        "\n",
        "Your target variable is *CATEGORY*, indicating if the air is healthy.  You can focus on either the entire country, split the country in regions, or focus on just one area (ex. Utah).   You can reduce noise by aggregating the data to the month of season level.   \n",
        "\n",
        "Can you predict the category based on the location and time of year?  \n",
        "\n",
        "The AQI is divided into six categories:\n",
        "\n",
        "*Air Quality Index*\n",
        "\n",
        "|(AQI) Values\t|Levels of Health Concern\t        |\n",
        "|---------------|--------|\n",
        "|0-50\t        |Good\t |\n",
        "|51-100\t        |Moderate\t |\n",
        "|101-150\t    |Unhealthy for Sensitive Groups\t|\n",
        "|151 to 200\t    |Unhealthy\t |\n",
        "|201 to 300\t    |Very Unhealthy\t |\n",
        "|301 to 500\t    |Hazardous\t |\n",
        "\n",
        "<a href=\"https://colab.research.google.com/github/Stan-Pugsley/is_4487_base/blob/main/Labs/Scripts/lab10_air_quality_fit_model.ipynb\" target=\"_parent\"><img src=\"https://colab.research.google.com/assets/colab-badge.svg\" alt=\"Open In Colab\"/></a>"
      ]
    },
    {
      "cell_type": "markdown",
      "metadata": {
        "id": "ym_5TSbJwPcb"
      },
      "source": [
        "## Load Libraries\n",
        "\n",
        "➡️ Assignment Tasks\n",
        "- Load any necessary libraries"
      ]
    },
    {
      "cell_type": "code",
      "execution_count": 14,
      "metadata": {
        "vscode": {
          "languageId": "plaintext"
        },
        "id": "hySGEw9bwPcb"
      },
      "outputs": [],
      "source": [
        "import pandas as pd\n",
        "from sklearn.model_selection import train_test_split\n",
        "from sklearn.linear_model import LinearRegression\n",
        "import numpy as np\n",
        "import matplotlib.pyplot as plt"
      ]
    },
    {
      "cell_type": "markdown",
      "metadata": {
        "id": "WDUykaUAwPcc"
      },
      "source": [
        "## Import Data into Dataframe\n",
        "\n",
        "➡️ Assignment Tasks\n",
        "- Import data from the air quality dataset into a dataframe (in GitHub go to Labs > DataSets)\n",
        "- Describe or profile the dataframe"
      ]
    },
    {
      "cell_type": "code",
      "execution_count": 15,
      "metadata": {
        "vscode": {
          "languageId": "plaintext"
        },
        "id": "cVGxA4XGwPcc",
        "colab": {
          "base_uri": "https://localhost:8080/",
          "height": 317
        },
        "outputId": "145bd589-f501-4eb0-945d-445774ac3bf6"
      },
      "outputs": [
        {
          "output_type": "stream",
          "name": "stdout",
          "text": [
            "Mounted at /content/gdrive\n"
          ]
        },
        {
          "output_type": "execute_result",
          "data": {
            "text/plain": [
              "          State Code    County Code            AQI  Number of Sites Reporting\n",
              "count  185017.000000  185017.000000  185017.000000              185017.000000\n",
              "mean       29.936773      81.188415      43.498397                   1.878595\n",
              "std        15.904884      93.001539      23.905791                   2.273400\n",
              "min         1.000000       1.000000       0.000000                   1.000000\n",
              "25%        17.000000      23.000000      31.000000                   1.000000\n",
              "50%        30.000000      59.000000      41.000000                   1.000000\n",
              "75%        42.000000     107.000000      50.000000                   2.000000\n",
              "max        80.000000     810.000000    1695.000000                  33.000000"
            ],
            "text/html": [
              "\n",
              "  <div id=\"df-5dc48da9-576c-47fc-937f-106c00d40e62\" class=\"colab-df-container\">\n",
              "    <div>\n",
              "<style scoped>\n",
              "    .dataframe tbody tr th:only-of-type {\n",
              "        vertical-align: middle;\n",
              "    }\n",
              "\n",
              "    .dataframe tbody tr th {\n",
              "        vertical-align: top;\n",
              "    }\n",
              "\n",
              "    .dataframe thead th {\n",
              "        text-align: right;\n",
              "    }\n",
              "</style>\n",
              "<table border=\"1\" class=\"dataframe\">\n",
              "  <thead>\n",
              "    <tr style=\"text-align: right;\">\n",
              "      <th></th>\n",
              "      <th>State Code</th>\n",
              "      <th>County Code</th>\n",
              "      <th>AQI</th>\n",
              "      <th>Number of Sites Reporting</th>\n",
              "    </tr>\n",
              "  </thead>\n",
              "  <tbody>\n",
              "    <tr>\n",
              "      <th>count</th>\n",
              "      <td>185017.000000</td>\n",
              "      <td>185017.000000</td>\n",
              "      <td>185017.000000</td>\n",
              "      <td>185017.000000</td>\n",
              "    </tr>\n",
              "    <tr>\n",
              "      <th>mean</th>\n",
              "      <td>29.936773</td>\n",
              "      <td>81.188415</td>\n",
              "      <td>43.498397</td>\n",
              "      <td>1.878595</td>\n",
              "    </tr>\n",
              "    <tr>\n",
              "      <th>std</th>\n",
              "      <td>15.904884</td>\n",
              "      <td>93.001539</td>\n",
              "      <td>23.905791</td>\n",
              "      <td>2.273400</td>\n",
              "    </tr>\n",
              "    <tr>\n",
              "      <th>min</th>\n",
              "      <td>1.000000</td>\n",
              "      <td>1.000000</td>\n",
              "      <td>0.000000</td>\n",
              "      <td>1.000000</td>\n",
              "    </tr>\n",
              "    <tr>\n",
              "      <th>25%</th>\n",
              "      <td>17.000000</td>\n",
              "      <td>23.000000</td>\n",
              "      <td>31.000000</td>\n",
              "      <td>1.000000</td>\n",
              "    </tr>\n",
              "    <tr>\n",
              "      <th>50%</th>\n",
              "      <td>30.000000</td>\n",
              "      <td>59.000000</td>\n",
              "      <td>41.000000</td>\n",
              "      <td>1.000000</td>\n",
              "    </tr>\n",
              "    <tr>\n",
              "      <th>75%</th>\n",
              "      <td>42.000000</td>\n",
              "      <td>107.000000</td>\n",
              "      <td>50.000000</td>\n",
              "      <td>2.000000</td>\n",
              "    </tr>\n",
              "    <tr>\n",
              "      <th>max</th>\n",
              "      <td>80.000000</td>\n",
              "      <td>810.000000</td>\n",
              "      <td>1695.000000</td>\n",
              "      <td>33.000000</td>\n",
              "    </tr>\n",
              "  </tbody>\n",
              "</table>\n",
              "</div>\n",
              "    <div class=\"colab-df-buttons\">\n",
              "\n",
              "  <div class=\"colab-df-container\">\n",
              "    <button class=\"colab-df-convert\" onclick=\"convertToInteractive('df-5dc48da9-576c-47fc-937f-106c00d40e62')\"\n",
              "            title=\"Convert this dataframe to an interactive table.\"\n",
              "            style=\"display:none;\">\n",
              "\n",
              "  <svg xmlns=\"http://www.w3.org/2000/svg\" height=\"24px\" viewBox=\"0 -960 960 960\">\n",
              "    <path d=\"M120-120v-720h720v720H120Zm60-500h600v-160H180v160Zm220 220h160v-160H400v160Zm0 220h160v-160H400v160ZM180-400h160v-160H180v160Zm440 0h160v-160H620v160ZM180-180h160v-160H180v160Zm440 0h160v-160H620v160Z\"/>\n",
              "  </svg>\n",
              "    </button>\n",
              "\n",
              "  <style>\n",
              "    .colab-df-container {\n",
              "      display:flex;\n",
              "      gap: 12px;\n",
              "    }\n",
              "\n",
              "    .colab-df-convert {\n",
              "      background-color: #E8F0FE;\n",
              "      border: none;\n",
              "      border-radius: 50%;\n",
              "      cursor: pointer;\n",
              "      display: none;\n",
              "      fill: #1967D2;\n",
              "      height: 32px;\n",
              "      padding: 0 0 0 0;\n",
              "      width: 32px;\n",
              "    }\n",
              "\n",
              "    .colab-df-convert:hover {\n",
              "      background-color: #E2EBFA;\n",
              "      box-shadow: 0px 1px 2px rgba(60, 64, 67, 0.3), 0px 1px 3px 1px rgba(60, 64, 67, 0.15);\n",
              "      fill: #174EA6;\n",
              "    }\n",
              "\n",
              "    .colab-df-buttons div {\n",
              "      margin-bottom: 4px;\n",
              "    }\n",
              "\n",
              "    [theme=dark] .colab-df-convert {\n",
              "      background-color: #3B4455;\n",
              "      fill: #D2E3FC;\n",
              "    }\n",
              "\n",
              "    [theme=dark] .colab-df-convert:hover {\n",
              "      background-color: #434B5C;\n",
              "      box-shadow: 0px 1px 3px 1px rgba(0, 0, 0, 0.15);\n",
              "      filter: drop-shadow(0px 1px 2px rgba(0, 0, 0, 0.3));\n",
              "      fill: #FFFFFF;\n",
              "    }\n",
              "  </style>\n",
              "\n",
              "    <script>\n",
              "      const buttonEl =\n",
              "        document.querySelector('#df-5dc48da9-576c-47fc-937f-106c00d40e62 button.colab-df-convert');\n",
              "      buttonEl.style.display =\n",
              "        google.colab.kernel.accessAllowed ? 'block' : 'none';\n",
              "\n",
              "      async function convertToInteractive(key) {\n",
              "        const element = document.querySelector('#df-5dc48da9-576c-47fc-937f-106c00d40e62');\n",
              "        const dataTable =\n",
              "          await google.colab.kernel.invokeFunction('convertToInteractive',\n",
              "                                                    [key], {});\n",
              "        if (!dataTable) return;\n",
              "\n",
              "        const docLinkHtml = 'Like what you see? Visit the ' +\n",
              "          '<a target=\"_blank\" href=https://colab.research.google.com/notebooks/data_table.ipynb>data table notebook</a>'\n",
              "          + ' to learn more about interactive tables.';\n",
              "        element.innerHTML = '';\n",
              "        dataTable['output_type'] = 'display_data';\n",
              "        await google.colab.output.renderOutput(dataTable, element);\n",
              "        const docLink = document.createElement('div');\n",
              "        docLink.innerHTML = docLinkHtml;\n",
              "        element.appendChild(docLink);\n",
              "      }\n",
              "    </script>\n",
              "  </div>\n",
              "\n",
              "\n",
              "<div id=\"df-6b5b65c5-5239-49ca-9ba4-46fcc147d68d\">\n",
              "  <button class=\"colab-df-quickchart\" onclick=\"quickchart('df-6b5b65c5-5239-49ca-9ba4-46fcc147d68d')\"\n",
              "            title=\"Suggest charts\"\n",
              "            style=\"display:none;\">\n",
              "\n",
              "<svg xmlns=\"http://www.w3.org/2000/svg\" height=\"24px\"viewBox=\"0 0 24 24\"\n",
              "     width=\"24px\">\n",
              "    <g>\n",
              "        <path d=\"M19 3H5c-1.1 0-2 .9-2 2v14c0 1.1.9 2 2 2h14c1.1 0 2-.9 2-2V5c0-1.1-.9-2-2-2zM9 17H7v-7h2v7zm4 0h-2V7h2v10zm4 0h-2v-4h2v4z\"/>\n",
              "    </g>\n",
              "</svg>\n",
              "  </button>\n",
              "\n",
              "<style>\n",
              "  .colab-df-quickchart {\n",
              "      --bg-color: #E8F0FE;\n",
              "      --fill-color: #1967D2;\n",
              "      --hover-bg-color: #E2EBFA;\n",
              "      --hover-fill-color: #174EA6;\n",
              "      --disabled-fill-color: #AAA;\n",
              "      --disabled-bg-color: #DDD;\n",
              "  }\n",
              "\n",
              "  [theme=dark] .colab-df-quickchart {\n",
              "      --bg-color: #3B4455;\n",
              "      --fill-color: #D2E3FC;\n",
              "      --hover-bg-color: #434B5C;\n",
              "      --hover-fill-color: #FFFFFF;\n",
              "      --disabled-bg-color: #3B4455;\n",
              "      --disabled-fill-color: #666;\n",
              "  }\n",
              "\n",
              "  .colab-df-quickchart {\n",
              "    background-color: var(--bg-color);\n",
              "    border: none;\n",
              "    border-radius: 50%;\n",
              "    cursor: pointer;\n",
              "    display: none;\n",
              "    fill: var(--fill-color);\n",
              "    height: 32px;\n",
              "    padding: 0;\n",
              "    width: 32px;\n",
              "  }\n",
              "\n",
              "  .colab-df-quickchart:hover {\n",
              "    background-color: var(--hover-bg-color);\n",
              "    box-shadow: 0 1px 2px rgba(60, 64, 67, 0.3), 0 1px 3px 1px rgba(60, 64, 67, 0.15);\n",
              "    fill: var(--button-hover-fill-color);\n",
              "  }\n",
              "\n",
              "  .colab-df-quickchart-complete:disabled,\n",
              "  .colab-df-quickchart-complete:disabled:hover {\n",
              "    background-color: var(--disabled-bg-color);\n",
              "    fill: var(--disabled-fill-color);\n",
              "    box-shadow: none;\n",
              "  }\n",
              "\n",
              "  .colab-df-spinner {\n",
              "    border: 2px solid var(--fill-color);\n",
              "    border-color: transparent;\n",
              "    border-bottom-color: var(--fill-color);\n",
              "    animation:\n",
              "      spin 1s steps(1) infinite;\n",
              "  }\n",
              "\n",
              "  @keyframes spin {\n",
              "    0% {\n",
              "      border-color: transparent;\n",
              "      border-bottom-color: var(--fill-color);\n",
              "      border-left-color: var(--fill-color);\n",
              "    }\n",
              "    20% {\n",
              "      border-color: transparent;\n",
              "      border-left-color: var(--fill-color);\n",
              "      border-top-color: var(--fill-color);\n",
              "    }\n",
              "    30% {\n",
              "      border-color: transparent;\n",
              "      border-left-color: var(--fill-color);\n",
              "      border-top-color: var(--fill-color);\n",
              "      border-right-color: var(--fill-color);\n",
              "    }\n",
              "    40% {\n",
              "      border-color: transparent;\n",
              "      border-right-color: var(--fill-color);\n",
              "      border-top-color: var(--fill-color);\n",
              "    }\n",
              "    60% {\n",
              "      border-color: transparent;\n",
              "      border-right-color: var(--fill-color);\n",
              "    }\n",
              "    80% {\n",
              "      border-color: transparent;\n",
              "      border-right-color: var(--fill-color);\n",
              "      border-bottom-color: var(--fill-color);\n",
              "    }\n",
              "    90% {\n",
              "      border-color: transparent;\n",
              "      border-bottom-color: var(--fill-color);\n",
              "    }\n",
              "  }\n",
              "</style>\n",
              "\n",
              "  <script>\n",
              "    async function quickchart(key) {\n",
              "      const quickchartButtonEl =\n",
              "        document.querySelector('#' + key + ' button');\n",
              "      quickchartButtonEl.disabled = true;  // To prevent multiple clicks.\n",
              "      quickchartButtonEl.classList.add('colab-df-spinner');\n",
              "      try {\n",
              "        const charts = await google.colab.kernel.invokeFunction(\n",
              "            'suggestCharts', [key], {});\n",
              "      } catch (error) {\n",
              "        console.error('Error during call to suggestCharts:', error);\n",
              "      }\n",
              "      quickchartButtonEl.classList.remove('colab-df-spinner');\n",
              "      quickchartButtonEl.classList.add('colab-df-quickchart-complete');\n",
              "    }\n",
              "    (() => {\n",
              "      let quickchartButtonEl =\n",
              "        document.querySelector('#df-6b5b65c5-5239-49ca-9ba4-46fcc147d68d button');\n",
              "      quickchartButtonEl.style.display =\n",
              "        google.colab.kernel.accessAllowed ? 'block' : 'none';\n",
              "    })();\n",
              "  </script>\n",
              "</div>\n",
              "\n",
              "    </div>\n",
              "  </div>\n"
            ],
            "application/vnd.google.colaboratory.intrinsic+json": {
              "type": "dataframe",
              "summary": "{\n  \"name\": \"df\",\n  \"rows\": 8,\n  \"fields\": [\n    {\n      \"column\": \"State Code\",\n      \"properties\": {\n        \"dtype\": \"number\",\n        \"std\": 65402.490219774074,\n        \"min\": 1.0,\n        \"max\": 185017.0,\n        \"num_unique_values\": 8,\n        \"samples\": [\n          29.93677337758152,\n          30.0,\n          185017.0\n        ],\n        \"semantic_type\": \"\",\n        \"description\": \"\"\n      }\n    },\n    {\n      \"column\": \"County Code\",\n      \"properties\": {\n        \"dtype\": \"number\",\n        \"std\": 65354.61748664401,\n        \"min\": 1.0,\n        \"max\": 185017.0,\n        \"num_unique_values\": 8,\n        \"samples\": [\n          81.18841511861072,\n          59.0,\n          185017.0\n        ],\n        \"semantic_type\": \"\",\n        \"description\": \"\"\n      }\n    },\n    {\n      \"column\": \"AQI\",\n      \"properties\": {\n        \"dtype\": \"number\",\n        \"std\": 65320.806200327206,\n        \"min\": 0.0,\n        \"max\": 185017.0,\n        \"num_unique_values\": 8,\n        \"samples\": [\n          43.498397444559146,\n          41.0,\n          185017.0\n        ],\n        \"semantic_type\": \"\",\n        \"description\": \"\"\n      }\n    },\n    {\n      \"column\": \"Number of Sites Reporting\",\n      \"properties\": {\n        \"dtype\": \"number\",\n        \"std\": 65411.259599291436,\n        \"min\": 1.0,\n        \"max\": 185017.0,\n        \"num_unique_values\": 6,\n        \"samples\": [\n          185017.0,\n          1.8785949399244393,\n          33.0\n        ],\n        \"semantic_type\": \"\",\n        \"description\": \"\"\n      }\n    }\n  ]\n}"
            }
          },
          "metadata": {},
          "execution_count": 15
        }
      ],
      "source": [
        "from google.colab import drive\n",
        "drive.mount('/content/gdrive', force_remount=True)\n",
        "\n",
        "df = pd.read_csv (r'/content/daily_aqi_by_county_2023.csv')\n",
        "\n",
        "df.describe()"
      ]
    },
    {
      "cell_type": "markdown",
      "metadata": {
        "id": "0aeKDDkxwPcc"
      },
      "source": [
        "## Prepare Data\n",
        "\n",
        "➡️ Assignment Tasks\n",
        "- Create one dummy variable (true/false) for each of the Defining Parameter values    \n",
        "- Create variables for month and season\n",
        "- Perform any other data cleanup needed (remove outliers, nulls, etc.)\n",
        "- Select the data you would like to use in the model.  If you aggregate data, you will have to decide whether to use the min, max or mean value for AQI"
      ]
    },
    {
      "cell_type": "code",
      "execution_count": 16,
      "metadata": {
        "vscode": {
          "languageId": "plaintext"
        },
        "id": "QhpK483cwPcc",
        "colab": {
          "base_uri": "https://localhost:8080/"
        },
        "outputId": "d5c72366-a219-4156-9227-937dfdf3506f"
      },
      "outputs": [
        {
          "output_type": "stream",
          "name": "stdout",
          "text": [
            "       State Name county Name  State Code  County Code        Date  AQI  \\\n",
            "0         Alabama     Baldwin           1            3  2023-01-10   35   \n",
            "1         Alabama     Baldwin           1            3  2023-01-11   28   \n",
            "2         Alabama     Baldwin           1            3  2023-01-12   23   \n",
            "3         Alabama     Baldwin           1            3  2023-01-13   18   \n",
            "4         Alabama     Baldwin           1            3  2023-01-14   20   \n",
            "...           ...         ...         ...          ...         ...  ...   \n",
            "185012    Wyoming      Weston          56           45  2023-06-26   46   \n",
            "185013    Wyoming      Weston          56           45  2023-06-27   50   \n",
            "185014    Wyoming      Weston          56           45  2023-06-28   48   \n",
            "185015    Wyoming      Weston          56           45  2023-06-29   47   \n",
            "185016    Wyoming      Weston          56           45  2023-06-30   48   \n",
            "\n",
            "       Category Defining Parameter Defining Site  Number of Sites Reporting  \\\n",
            "0          Good              PM2.5   01-003-0010                          1   \n",
            "1          Good              PM2.5   01-003-0010                          1   \n",
            "2          Good              PM2.5   01-003-0010                          1   \n",
            "3          Good              PM2.5   01-003-0010                          1   \n",
            "4          Good              PM2.5   01-003-0010                          1   \n",
            "...         ...                ...           ...                        ...   \n",
            "185012     Good              Ozone   56-045-0003                          1   \n",
            "185013     Good              Ozone   56-045-0003                          1   \n",
            "185014     Good              Ozone   56-045-0003                          1   \n",
            "185015     Good              Ozone   56-045-0003                          1   \n",
            "185016     Good              Ozone   56-045-0003                          1   \n",
            "\n",
            "        CO  NO2  Ozone  PM10  PM2.5  \n",
            "0        0    0      0     0      1  \n",
            "1        0    0      0     0      1  \n",
            "2        0    0      0     0      1  \n",
            "3        0    0      0     0      1  \n",
            "4        0    0      0     0      1  \n",
            "...     ..  ...    ...   ...    ...  \n",
            "185012   0    0      1     0      0  \n",
            "185013   0    0      1     0      0  \n",
            "185014   0    0      1     0      0  \n",
            "185015   0    0      1     0      0  \n",
            "185016   0    0      1     0      0  \n",
            "\n",
            "[185017 rows x 15 columns]\n"
          ]
        }
      ],
      "source": [
        "#create columns\n",
        "\n",
        "#dummy variables\n",
        "\n",
        "dummy_variables = pd.get_dummies(df['Defining Parameter'])\n",
        "df_with_dummies = pd.concat([df, dummy_variables], axis=1)\n",
        "print(df_with_dummies)"
      ]
    },
    {
      "cell_type": "code",
      "source": [
        "#months column\n",
        "\n",
        "df['Date'] = pd.to_datetime(df['Date'])\n",
        "\n",
        "df['Month'] = df['Date'].dt.month\n",
        "\n",
        "print(df)"
      ],
      "metadata": {
        "colab": {
          "base_uri": "https://localhost:8080/"
        },
        "id": "h6IumJl3uvuL",
        "outputId": "19649e2e-846b-404a-b0e2-42d0da15474a"
      },
      "execution_count": 17,
      "outputs": [
        {
          "output_type": "stream",
          "name": "stdout",
          "text": [
            "       State Name county Name  State Code  County Code       Date  AQI  \\\n",
            "0         Alabama     Baldwin           1            3 2023-01-10   35   \n",
            "1         Alabama     Baldwin           1            3 2023-01-11   28   \n",
            "2         Alabama     Baldwin           1            3 2023-01-12   23   \n",
            "3         Alabama     Baldwin           1            3 2023-01-13   18   \n",
            "4         Alabama     Baldwin           1            3 2023-01-14   20   \n",
            "...           ...         ...         ...          ...        ...  ...   \n",
            "185012    Wyoming      Weston          56           45 2023-06-26   46   \n",
            "185013    Wyoming      Weston          56           45 2023-06-27   50   \n",
            "185014    Wyoming      Weston          56           45 2023-06-28   48   \n",
            "185015    Wyoming      Weston          56           45 2023-06-29   47   \n",
            "185016    Wyoming      Weston          56           45 2023-06-30   48   \n",
            "\n",
            "       Category Defining Parameter Defining Site  Number of Sites Reporting  \\\n",
            "0          Good              PM2.5   01-003-0010                          1   \n",
            "1          Good              PM2.5   01-003-0010                          1   \n",
            "2          Good              PM2.5   01-003-0010                          1   \n",
            "3          Good              PM2.5   01-003-0010                          1   \n",
            "4          Good              PM2.5   01-003-0010                          1   \n",
            "...         ...                ...           ...                        ...   \n",
            "185012     Good              Ozone   56-045-0003                          1   \n",
            "185013     Good              Ozone   56-045-0003                          1   \n",
            "185014     Good              Ozone   56-045-0003                          1   \n",
            "185015     Good              Ozone   56-045-0003                          1   \n",
            "185016     Good              Ozone   56-045-0003                          1   \n",
            "\n",
            "        Month  \n",
            "0           1  \n",
            "1           1  \n",
            "2           1  \n",
            "3           1  \n",
            "4           1  \n",
            "...       ...  \n",
            "185012      6  \n",
            "185013      6  \n",
            "185014      6  \n",
            "185015      6  \n",
            "185016      6  \n",
            "\n",
            "[185017 rows x 11 columns]\n"
          ]
        }
      ]
    },
    {
      "cell_type": "code",
      "source": [
        "#seasons column\n",
        "\n",
        "def get_season(month):\n",
        "    if month in [12, 1, 2]:\n",
        "        return 'Winter'\n",
        "    elif month in [3, 4, 5]:\n",
        "        return 'Spring'\n",
        "    elif month in [6, 7, 8]:\n",
        "        return 'Summer'\n",
        "    else:\n",
        "        return 'Fall'\n",
        "\n",
        "df['Season'] = df['Month'].apply(get_season)\n",
        "\n",
        "print(df)"
      ],
      "metadata": {
        "colab": {
          "base_uri": "https://localhost:8080/"
        },
        "id": "TuFJcAS5u7IS",
        "outputId": "39b741b5-363a-4736-8739-b8a8c7d29683"
      },
      "execution_count": 18,
      "outputs": [
        {
          "output_type": "stream",
          "name": "stdout",
          "text": [
            "       State Name county Name  State Code  County Code       Date  AQI  \\\n",
            "0         Alabama     Baldwin           1            3 2023-01-10   35   \n",
            "1         Alabama     Baldwin           1            3 2023-01-11   28   \n",
            "2         Alabama     Baldwin           1            3 2023-01-12   23   \n",
            "3         Alabama     Baldwin           1            3 2023-01-13   18   \n",
            "4         Alabama     Baldwin           1            3 2023-01-14   20   \n",
            "...           ...         ...         ...          ...        ...  ...   \n",
            "185012    Wyoming      Weston          56           45 2023-06-26   46   \n",
            "185013    Wyoming      Weston          56           45 2023-06-27   50   \n",
            "185014    Wyoming      Weston          56           45 2023-06-28   48   \n",
            "185015    Wyoming      Weston          56           45 2023-06-29   47   \n",
            "185016    Wyoming      Weston          56           45 2023-06-30   48   \n",
            "\n",
            "       Category Defining Parameter Defining Site  Number of Sites Reporting  \\\n",
            "0          Good              PM2.5   01-003-0010                          1   \n",
            "1          Good              PM2.5   01-003-0010                          1   \n",
            "2          Good              PM2.5   01-003-0010                          1   \n",
            "3          Good              PM2.5   01-003-0010                          1   \n",
            "4          Good              PM2.5   01-003-0010                          1   \n",
            "...         ...                ...           ...                        ...   \n",
            "185012     Good              Ozone   56-045-0003                          1   \n",
            "185013     Good              Ozone   56-045-0003                          1   \n",
            "185014     Good              Ozone   56-045-0003                          1   \n",
            "185015     Good              Ozone   56-045-0003                          1   \n",
            "185016     Good              Ozone   56-045-0003                          1   \n",
            "\n",
            "        Month  Season  \n",
            "0           1  Winter  \n",
            "1           1  Winter  \n",
            "2           1  Winter  \n",
            "3           1  Winter  \n",
            "4           1  Winter  \n",
            "...       ...     ...  \n",
            "185012      6  Summer  \n",
            "185013      6  Summer  \n",
            "185014      6  Summer  \n",
            "185015      6  Summer  \n",
            "185016      6  Summer  \n",
            "\n",
            "[185017 rows x 12 columns]\n"
          ]
        }
      ]
    },
    {
      "cell_type": "code",
      "source": [
        "#remove outliers and null values\n",
        "\n",
        "df_clean = df[(df['AQI'] < 600)]\n",
        "\n",
        "df_clean = df_clean.dropna()"
      ],
      "metadata": {
        "id": "E7d6Guc9vNrQ"
      },
      "execution_count": 19,
      "outputs": []
    },
    {
      "cell_type": "code",
      "execution_count": 20,
      "metadata": {
        "vscode": {
          "languageId": "plaintext"
        },
        "id": "6PYEDNOywPcc",
        "colab": {
          "base_uri": "https://localhost:8080/"
        },
        "outputId": "13652ca1-3333-47d0-dcdf-acbf653d39a6"
      },
      "outputs": [
        {
          "output_type": "stream",
          "name": "stdout",
          "text": [
            "<class 'pandas.core.frame.DataFrame'>\n",
            "Int64Index: 185012 entries, 0 to 185016\n",
            "Data columns (total 4 columns):\n",
            " #   Column      Non-Null Count   Dtype \n",
            "---  ------      --------------   ----- \n",
            " 0   Month       185012 non-null  int64 \n",
            " 1   AQI         185012 non-null  int64 \n",
            " 2   State Name  185012 non-null  object\n",
            " 3   Season      185012 non-null  object\n",
            "dtypes: int64(2), object(2)\n",
            "memory usage: 7.1+ MB\n"
          ]
        }
      ],
      "source": [
        "#select final columns for use\n",
        "\n",
        "columns_to_keep = ['Month','AQI','State Name','Season']\n",
        "\n",
        "df_keep = df_clean[columns_to_keep]\n",
        "\n",
        "df_keep.info()"
      ]
    },
    {
      "cell_type": "markdown",
      "metadata": {
        "id": "EsQ5xcrzwPcd"
      },
      "source": [
        "## Create Regression\n",
        "\n",
        "➡️ Assignment Tasks\n",
        "- Create a simple linear regression to predict AQI based on as many variables as you can use or derive.\n",
        "- Visualize the regression"
      ]
    },
    {
      "cell_type": "code",
      "execution_count": 21,
      "metadata": {
        "vscode": {
          "languageId": "plaintext"
        },
        "id": "5rqY8BfZwPcd",
        "colab": {
          "base_uri": "https://localhost:8080/",
          "height": 564
        },
        "outputId": "32597cd8-18fc-4c3e-9dfc-254813d01975"
      },
      "outputs": [
        {
          "output_type": "display_data",
          "data": {
            "text/plain": [
              "<Figure size 1000x600 with 1 Axes>"
            ],
            "image/png": "[encoded data removed]"
          },
          "metadata": {}
        }
      ],
      "source": [
        "#create regression\n",
        "\n",
        "X = df_keep[['Month']]\n",
        "y = df_keep['AQI']\n",
        "\n",
        "X_train, X_test, y_train, y_test = train_test_split(X, y, test_size=0.2, random_state=42)\n",
        "\n",
        "model = LinearRegression()\n",
        "model.fit(X_train, y_train)\n",
        "\n",
        "y_pred_train = model.predict(X_train)\n",
        "y_pred_test = model.predict(X_test)\n",
        "\n",
        "plt.figure(figsize=(10, 6))\n",
        "\n",
        "plt.plot(X_train, y_pred_train, color='blue', label='Linear Regression')\n",
        "\n",
        "plt.xlabel('Month')\n",
        "plt.ylabel('AQI')\n",
        "plt.title('Linear Regression Only')\n",
        "plt.legend()\n",
        "\n",
        "plt.show()"
      ]
    },
    {
      "cell_type": "code",
      "execution_count": 22,
      "metadata": {
        "vscode": {
          "languageId": "plaintext"
        },
        "id": "18ld7Qd-wPcd",
        "colab": {
          "base_uri": "https://localhost:8080/",
          "height": 564
        },
        "outputId": "c09e2488-76a2-4a01-81a3-a1b521b95d88"
      },
      "outputs": [
        {
          "output_type": "display_data",
          "data": {
            "text/plain": [
              "<Figure size 1000x600 with 1 Axes>"
            ],
            "image/png": "[encoded data removed]"
          },
          "metadata": {}
        }
      ],
      "source": [
        "#visual\n",
        "\n",
        "plt.figure(figsize=(10, 6))\n",
        "\n",
        "#scatter plot\n",
        "plt.scatter(X_train, y_train, color='orange', label='Training Data')\n",
        "plt.scatter(X_test, y_test, color='purple', label='Testing Data')\n",
        "\n",
        "#regression line\n",
        "plt.plot(X_train, y_pred_train, color='blue', label='Linear Regression')\n",
        "\n",
        "plt.xlabel('Month')\n",
        "plt.ylabel('AQI')\n",
        "plt.title('Linear Regression - AQI Prediction based on Month')\n",
        "plt.legend()\n",
        "\n",
        "plt.show()"
      ]
    },
    {
      "cell_type": "markdown",
      "metadata": {
        "id": "wnk8P4TVwPcd"
      },
      "source": [
        "## Make a prediction\n",
        "\n",
        "➡️ Assignment Tasks\n",
        "- What would you predict the average AQI to be in the month of January?  "
      ]
    },
    {
      "cell_type": "code",
      "source": [
        "jan_pred_aqi = model.predict(np.array([[1]]))\n",
        "\n",
        "print(\"Predicted AQI for the month of January:\", jan_pred_aqi[0])"
      ],
      "metadata": {
        "colab": {
          "base_uri": "https://localhost:8080/"
        },
        "id": "eeEODl_OwEgP",
        "outputId": "202210f9-0feb-4f4b-e704-bdd36f587f03"
      },
      "execution_count": 23,
      "outputs": [
        {
          "output_type": "stream",
          "name": "stdout",
          "text": [
            "Predicted AQI for the month of January: 36.37272198955293\n"
          ]
        },
        {
          "output_type": "stream",
          "name": "stderr",
          "text": [
            "/usr/local/lib/python3.10/dist-packages/sklearn/base.py:439: UserWarning: X does not have valid feature names, but LinearRegression was fitted with feature names\n",
            "  warnings.warn(\n"
          ]
        }
      ]
    },
    {
      "cell_type": "markdown",
      "metadata": {
        "id": "7FSkePFOwPcd"
      },
      "source": [
        "## OPTIONAL: Compare Air Quality\n",
        "\n",
        "➡️ Assignment Tasks\n",
        "- Download the data from a year 20 years prior, using this website: https://aqs.epa.gov/aqsweb/airdata/download_files.html#AQI\n",
        "- Append the new data to the previous dataframe\n",
        "- Use the year as a variable in your regression.  Is year a significant factor in predicting AQI?"
      ]
    },
    {
      "cell_type": "code",
      "execution_count": null,
      "metadata": {
        "vscode": {
          "languageId": "plaintext"
        },
        "id": "TF5cWn_ywPcd"
      },
      "outputs": [],
      "source": [
        "#import, append and create new model"
      ]
    }
  ],
  "metadata": {
    "language_info": {
      "name": "python"
    },
    "colab": {
      "provenance": [],
      "include_colab_link": true
    },
    "kernelspec": {
      "name": "python3",
      "display_name": "Python 3"
    }
  },
  "nbformat": 4,
  "nbformat_minor": 0
}